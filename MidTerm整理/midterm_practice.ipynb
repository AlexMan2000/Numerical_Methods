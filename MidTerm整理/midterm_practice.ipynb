{
 "cells": [
  {
   "cell_type": "code",
   "execution_count": 2,
   "metadata": {},
   "outputs": [],
   "source": [
    "import numpy as np\n",
    "import matplotlib.pyplot as plt\n",
    "import seaborn as sns\n",
    "import math\n",
    "from sympy import *\n",
    "sns.set()"
   ]
  },
  {
   "cell_type": "markdown",
   "metadata": {
    "heading_collapsed": "true"
   },
   "source": [
    "# Root Finding\n",
    "![image.png](attachment:b7bb6e35-eccf-423f-810a-17b552edc51b.png)"
   ]
  },
  {
   "cell_type": "code",
   "execution_count": null,
   "metadata": {},
   "outputs": [],
   "source": [
    "class RootFinding:\n",
    "    x = symbols(\"x\")\n",
    "\n",
    "    def __init__(self):\n",
    "        self.right = 0.865474\n",
    "        self.TOL = 0.1e-10\n",
    "        self.error = 0.5e-4\n",
    "\n",
    "    def generate_x(self):\n",
    "        return self.x\n",
    "\n",
    "    def bisectionMethod(self,start=0, end = 1,TOL=0.1e-10,max_iteration = 500):\n",
    "\n",
    "        # function definition\n",
    "\n",
    "        func = cos(self.x) - self.x**3\n",
    "\n",
    "        a0 = start\n",
    "        b0 = end\n",
    "        iteration = 0\n",
    "\n",
    "        while (b0-a0)/2 > self.TOL and iteration <= max_iteration:\n",
    "            iteration += 1\n",
    "            mid = (a0+b0)/2\n",
    "            error = np.abs(mid - float(self.right))\n",
    "            if error < 0.5e-4:\n",
    "                self.printHelper(iteration,error,mid)\n",
    "                return mid\n",
    "\n",
    "            if self.f(func,mid)*self.f(func,b0) < 0:\n",
    "                a0 = mid\n",
    "            else:\n",
    "                b0 = mid\n",
    "\n",
    "        return \"max_iteration_reached\"\n",
    "\n",
    "\n",
    "    def newtonMethod(self,max_iteration = 10000,initial = 0.3,explore=False):\n",
    "        \n",
    "        func = cos(self.x) - self.x ** 3\n",
    "        first_diff = diff(func,self.x)\n",
    "\n",
    "        iteration = 0\n",
    "        x0 = initial\n",
    "        while iteration <= max_iteration:\n",
    "            iteration += 1\n",
    "            x0 -= float(self.f(func,x0))/float(self.f(first_diff,x0))\n",
    "            error = float(x0-self.right)\n",
    "            if float(x0-self.right) < self.error:\n",
    "                self.printHelper(iteration,error,x0)\n",
    "                if explore:\n",
    "                    return iteration\n",
    "                else:\n",
    "                    return x0\n",
    "\n",
    "        print(\"max_iteration_reached\")\n",
    "\n",
    "\n",
    "    def exploreNewton(self):\n",
    "        initial_choice = np.linspace(0.1,1,100)\n",
    "        iteration_step_list = []\n",
    "        for initial in initial_choice:\n",
    "            iteration_step_list.append(self.newtonMethod(initial = initial,explore=True))\n",
    "\n",
    "        plt.plot(initial_choice,iteration_step_list)\n",
    "        plt.show()\n",
    "\n",
    "    # 正确解法\n",
    "    def secantMethod(self,max_iteration=10000,ini0 = 0, ini1 = 1):\n",
    "        func = cos(self.x) - self.x**3\n",
    "\n",
    "        x0 = ini0\n",
    "        x1 = ini1\n",
    "        iteration = 0\n",
    "\n",
    "        while iteration <= max_iteration:\n",
    "            iteration += 1\n",
    "            error = np.abs(x0-self.right)\n",
    "            # 由于x0最先被计算出来，因此我们只要6次就可以得到结果\n",
    "            if error < self.error:\n",
    "                self.printHelper(iteration,error,x1)\n",
    "                return x0\n",
    "\n",
    "            # 动态规划的时间优化方法，作业中是错误的方法\n",
    "            if iteration % 2 == 0:\n",
    "                x1 = x0 - (x0 - x1)*(self.f(func,x0)/float(self.f(func,x0)-self.f(func,x1)))\n",
    "            else:\n",
    "                x0 = x1 - (x1 - x0) * (self.f(func, x1) / float(self.f(func, x1) - self.f(func, x0)))\n",
    "\n",
    "\n",
    "        return \"max_iteration_reached\"\n",
    "\n",
    "\n",
    "    # 需要对函数做一定的变换才能收敛\n",
    "    def fixedPoint(self,max_iteration=10000,init=0,answer = 0.60352):\n",
    "        # sympy使用real_root求幂\n",
    "        func_list = [cos(self.x) - self.x**3, real_root(cos(self.x)-self.x,3), cos(self.x)/(self.x**2+1)]\n",
    "\n",
    "\n",
    "        for func in func_list:\n",
    "            print(\"Trying function:{}\".format(func))\n",
    "            iteration = 0\n",
    "            x1 = init\n",
    "            while iteration <= max_iteration:\n",
    "                iteration += 1\n",
    "                x1 = self.f(func,x1)\n",
    "                error = np.abs(x1-answer)\n",
    "                if error < self.error:\n",
    "                    print(\"Root found for function {}\".format(func))\n",
    "                    self.printHelper(iteration,error,x1)\n",
    "                    return x1\n",
    "\n",
    "            print(\"max_iteration_reached for func {}\".format(func))\n",
    "\n",
    "    def printHelper(self,iteration,error,rootValue):\n",
    "        print(\"Iteration spent:{0}\\nError: {1}\\nRoot found: {2}\".format(iteration,error,rootValue))\n",
    "\n",
    "    def f(self,func,value):\n",
    "        return float(func.evalf(subs={self.x:value}))\n",
    "\n",
    "\n"
   ]
  },
  {
   "cell_type": "code",
   "execution_count": null,
   "metadata": {},
   "outputs": [],
   "source": []
  },
  {
   "cell_type": "markdown",
   "metadata": {},
   "source": [
    "# Interpolation"
   ]
  },
  {
   "cell_type": "code",
   "execution_count": null,
   "metadata": {},
   "outputs": [],
   "source": [
    "class Interpolation:\n",
    "    \n",
    "    def __init__(self):\n",
    "        pass\n",
    "    \n",
    "     # Choose the interpolate the points and plot out the desired graph\n",
    "    def interpolation(self,func,mode=\"poly\",num_points = 10):\n",
    "        # Python 函数闭包\n",
    "        # https: // blog.csdn.net / register_2 / article / details / 80225970\n",
    "\n",
    "\n",
    "        # 给多项式造轮子\n",
    "        def constructA(x_list):\n",
    "            num_points = len(x_list)\n",
    "            vstack_rows = []\n",
    "            for i in range(len(x_list)):\n",
    "                stacked_matrix = np.array([x_list[i]**j for j in range(num_points-1,-1,-1)])\n",
    "                vstack_rows.append(stacked_matrix)\n",
    "            A = np.vstack(vstack_rows)\n",
    "            return A\n",
    "\n",
    "            # 使用numpy的广播机制\n",
    "\n",
    "        def constructB(y_true):\n",
    "            return np.array(y_true).reshape(len(y_true),1)\n",
    "\n",
    "\n",
    "        # 用于插值\n",
    "        x_list = np.linspace(1,num_points,num_points)\n",
    "        y_true = [self.f(func,x) for x in x_list]\n",
    "\n",
    "\n",
    "        # 用于画原图\n",
    "        x_graph = np.linspace(1,10,10000)\n",
    "        y_graph = [self.f(func,x) for x in x_graph]\n",
    "\n",
    "\n",
    "        plt.plot(x_graph,y_graph,label=\"original\")\n",
    "        plt.legend()\n",
    "        # plt.show()\n",
    "\n",
    "\n",
    "        # num_points个点，我们需要num_points-1次的多项式\n",
    "        if mode == \"poly\":\n",
    "            A = constructA(x_list)\n",
    "            b = constructB(y_true)\n",
    "\n",
    "            # 返回一个(n,1)的向量\n",
    "            x = np.linalg.solve(A,b)\n",
    "\n",
    "\n",
    "        # 两两连线即可\n",
    "        elif mode == \"linear\":\n",
    "            \n",
    "\n",
    "        elif mode == \"Lagrange\":\n",
    "            pass\n",
    "\n",
    "        elif mode == \"\":\n",
    "            pass\n",
    "\n",
    "\n",
    "\n"
   ]
  },
  {
   "cell_type": "code",
   "execution_count": null,
   "metadata": {},
   "outputs": [],
   "source": [
    "practice = NumericalMethod()\n",
    "\n",
    "# Lecture 1&2\n",
    "\n",
    "# BisectionMethod\n",
    "# practice.bisectionMethod()\n",
    "\n",
    "\n",
    "# NewtonMethod\n",
    "# practice.newtonMethod()\n",
    "# practice.exploreNewton()\n",
    "\n",
    "\n",
    "# SecantMethod\n",
    "# practice.secantMethod()\n",
    "\n",
    "\n",
    "# fixedPoint\n",
    "# practice.fixedPoint()\n",
    "\n",
    "\n",
    "\n",
    "# Lecture 3\n",
    "# Interpolation\n",
    "# graph_x = practice.generate_x()\n",
    "# func = graph_x**2\n",
    "# x_list = np.linspace(0,5,100)\n",
    "# plt.plot(x_list,[func.evalf(subs={graph_x:value}) for value in x_list])\n",
    "# plt.show()\n",
    "\n",
    "# test = np.array([1,2,3])\n",
    "# test2 = np.array([2,4,5])\n",
    "# print(np.vstack([test,test2]))"
   ]
  },
  {
   "cell_type": "code",
   "execution_count": null,
   "metadata": {},
   "outputs": [],
   "source": []
  },
  {
   "cell_type": "code",
   "execution_count": null,
   "metadata": {},
   "outputs": [],
   "source": []
  },
  {
   "cell_type": "code",
   "execution_count": null,
   "metadata": {},
   "outputs": [],
   "source": []
  },
  {
   "cell_type": "code",
   "execution_count": null,
   "metadata": {},
   "outputs": [],
   "source": []
  },
  {
   "cell_type": "code",
   "execution_count": null,
   "metadata": {},
   "outputs": [],
   "source": []
  },
  {
   "cell_type": "code",
   "execution_count": null,
   "metadata": {},
   "outputs": [],
   "source": []
  },
  {
   "cell_type": "code",
   "execution_count": null,
   "metadata": {},
   "outputs": [],
   "source": []
  },
  {
   "cell_type": "code",
   "execution_count": null,
   "metadata": {},
   "outputs": [],
   "source": []
  },
  {
   "cell_type": "code",
   "execution_count": null,
   "metadata": {},
   "outputs": [],
   "source": []
  },
  {
   "cell_type": "code",
   "execution_count": null,
   "metadata": {},
   "outputs": [],
   "source": []
  },
  {
   "cell_type": "code",
   "execution_count": null,
   "metadata": {},
   "outputs": [],
   "source": []
  },
  {
   "cell_type": "code",
   "execution_count": null,
   "metadata": {},
   "outputs": [],
   "source": []
  },
  {
   "cell_type": "markdown",
   "metadata": {},
   "source": [
    "# PlayGround"
   ]
  },
  {
   "cell_type": "code",
   "execution_count": 8,
   "metadata": {},
   "outputs": [],
   "source": [
    "t1 = np.array([1,2,3])\n",
    "t2 = np.array([2,3,4])"
   ]
  },
  {
   "cell_type": "code",
   "execution_count": 5,
   "metadata": {},
   "outputs": [
    {
     "data": {
      "text/plain": [
       "20"
      ]
     },
     "execution_count": 5,
     "metadata": {},
     "output_type": "execute_result"
    }
   ],
   "source": [
    "t1 @ t2"
   ]
  },
  {
   "cell_type": "code",
   "execution_count": 7,
   "metadata": {},
   "outputs": [
    {
     "data": {
      "text/plain": [
       "array([ 1.83333333, -2.16666667,  1.16666667])"
      ]
     },
     "execution_count": 7,
     "metadata": {},
     "output_type": "execute_result"
    }
   ],
   "source": [
    "A = np.array([[1,2,3],[2,3,5],[7,8,9]])\n",
    "b = np.array([1,3,6])\n",
    "np.linalg.solve(A,b)"
   ]
  },
  {
   "cell_type": "code",
   "execution_count": 12,
   "metadata": {},
   "outputs": [],
   "source": [
    "import math\n",
    "import scipy"
   ]
  },
  {
   "cell_type": "code",
   "execution_count": 10,
   "metadata": {},
   "outputs": [
    {
     "data": {
      "text/plain": [
       "120"
      ]
     },
     "execution_count": 10,
     "metadata": {},
     "output_type": "execute_result"
    }
   ],
   "source": [
    "math.factorial(5)"
   ]
  },
  {
   "cell_type": "code",
   "execution_count": 16,
   "metadata": {},
   "outputs": [
    {
     "data": {
      "text/plain": [
       "13.0"
      ]
     },
     "execution_count": 16,
     "metadata": {},
     "output_type": "execute_result"
    }
   ],
   "source": [
    "func = lambda x: x**3\n",
    "scipy.misc.derivative(func,2,n=1)"
   ]
  },
  {
   "cell_type": "code",
   "execution_count": 17,
   "metadata": {},
   "outputs": [],
   "source": [
    "import matplotlib.pyplot as plt"
   ]
  },
  {
   "cell_type": "code",
   "execution_count": 25,
   "metadata": {},
   "outputs": [
    {
     "data": {
      "text/plain": [
       "[<matplotlib.lines.Line2D at 0x1d598472340>]"
      ]
     },
     "execution_count": 25,
     "metadata": {},
     "output_type": "execute_result"
    },
    {
     "data": {
      "image/png": "[encoded data removed]",
      "text/plain": [
       "<Figure size 432x288 with 2 Axes>"
      ]
     },
     "metadata": {},
     "output_type": "display_data"
    }
   ],
   "source": [
    "fig,ax = plt.subplots(2,1)\n",
    "ax[0].plot([1,2,3],[4,5,6])\n",
    "ax[0].set_title(\"hah\")\n",
    "ax[1].plot([2,3,4],[3,65,76])"
   ]
  },
  {
   "cell_type": "code",
   "execution_count": 2,
   "metadata": {},
   "outputs": [],
   "source": [
    "import numpy as np"
   ]
  },
  {
   "cell_type": "code",
   "execution_count": 7,
   "metadata": {},
   "outputs": [],
   "source": [
    "identity = np.eye(3)"
   ]
  },
  {
   "cell_type": "code",
   "execution_count": 4,
   "metadata": {},
   "outputs": [],
   "source": [
    "temp = np.array([1,2,3])"
   ]
  },
  {
   "cell_type": "code",
   "execution_count": 6,
   "metadata": {},
   "outputs": [
    {
     "data": {
      "text/plain": [
       "array([[1],\n",
       "       [2],\n",
       "       [3]])"
      ]
     },
     "execution_count": 6,
     "metadata": {},
     "output_type": "execute_result"
    }
   ],
   "source": [
    "temp[:,np.newaxis]"
   ]
  },
  {
   "cell_type": "code",
   "execution_count": 8,
   "metadata": {},
   "outputs": [
    {
     "data": {
      "text/plain": [
       "array([[1., 0., 0.],\n",
       "       [0., 1., 0.],\n",
       "       [0., 0., 1.]])"
      ]
     },
     "execution_count": 8,
     "metadata": {},
     "output_type": "execute_result"
    }
   ],
   "source": [
    "identity"
   ]
  },
  {
   "cell_type": "code",
   "execution_count": 9,
   "metadata": {},
   "outputs": [
    {
     "data": {
      "text/plain": [
       "array([1., 0.])"
      ]
     },
     "execution_count": 9,
     "metadata": {},
     "output_type": "execute_result"
    }
   ],
   "source": [
    "identity[1:,1]"
   ]
  },
  {
   "cell_type": "code",
   "execution_count": 10,
   "metadata": {},
   "outputs": [
    {
     "data": {
      "text/plain": [
       "array([[0., 0., 1.]])"
      ]
     },
     "execution_count": 10,
     "metadata": {},
     "output_type": "execute_result"
    }
   ],
   "source": [
    "identity[2:]"
   ]
  },
  {
   "cell_type": "code",
   "execution_count": 11,
   "metadata": {},
   "outputs": [
    {
     "data": {
      "text/plain": [
       "array([[1, 2, 3],\n",
       "       [4, 5, 6],\n",
       "       [7, 8, 9]])"
      ]
     },
     "execution_count": 11,
     "metadata": {},
     "output_type": "execute_result"
    }
   ],
   "source": [
    "ex = np.array([[1,2,3],[4,5,6],[7,8,9]])\n",
    "ex"
   ]
  },
  {
   "cell_type": "code",
   "execution_count": 15,
   "metadata": {},
   "outputs": [],
   "source": [
    "factor = ex[1:,1]/ex[1,1]\n"
   ]
  },
  {
   "cell_type": "code",
   "execution_count": 14,
   "metadata": {},
   "outputs": [
    {
     "data": {
      "text/plain": [
       "array([5, 8])"
      ]
     },
     "execution_count": 14,
     "metadata": {},
     "output_type": "execute_result"
    }
   ],
   "source": [
    "ex[1:,1]"
   ]
  },
  {
   "cell_type": "code",
   "execution_count": 16,
   "metadata": {},
   "outputs": [
    {
     "data": {
      "text/plain": [
       "array([1. , 1.6])"
      ]
     },
     "execution_count": 16,
     "metadata": {},
     "output_type": "execute_result"
    }
   ],
   "source": [
    "factor"
   ]
  },
  {
   "cell_type": "code",
   "execution_count": 21,
   "metadata": {},
   "outputs": [
    {
     "data": {
      "text/plain": [
       "array([[1. ],\n",
       "       [1.6]])"
      ]
     },
     "execution_count": 21,
     "metadata": {},
     "output_type": "execute_result"
    }
   ],
   "source": [
    "factor[:,np.newaxis]"
   ]
  },
  {
   "cell_type": "code",
   "execution_count": 19,
   "metadata": {},
   "outputs": [],
   "source": [
    "ex[1:,1]=np.array([1,2])"
   ]
  },
  {
   "cell_type": "code",
   "execution_count": 20,
   "metadata": {},
   "outputs": [
    {
     "data": {
      "text/plain": [
       "array([[1, 2, 3],\n",
       "       [4, 1, 6],\n",
       "       [7, 2, 9]])"
      ]
     },
     "execution_count": 20,
     "metadata": {},
     "output_type": "execute_result"
    }
   ],
   "source": [
    "ex"
   ]
  },
  {
   "cell_type": "code",
   "execution_count": null,
   "metadata": {},
   "outputs": [],
   "source": []
  },
  {
   "cell_type": "code",
   "execution_count": 22,
   "metadata": {},
   "outputs": [],
   "source": [
    "b = np.array([1,2,3])"
   ]
  },
  {
   "cell_type": "code",
   "execution_count": 23,
   "metadata": {},
   "outputs": [
    {
     "data": {
      "text/plain": [
       "array([[1],\n",
       "       [2],\n",
       "       [3]])"
      ]
     },
     "execution_count": 23,
     "metadata": {},
     "output_type": "execute_result"
    }
   ],
   "source": [
    "b[:,np.newaxis]"
   ]
  },
  {
   "cell_type": "code",
   "execution_count": 24,
   "metadata": {},
   "outputs": [
    {
     "data": {
      "text/plain": [
       "array([[0.33333333, 0.5       ],\n",
       "       [0.6       , 0.57142857]])"
      ]
     },
     "execution_count": 24,
     "metadata": {},
     "output_type": "execute_result"
    }
   ],
   "source": [
    "n1 = np.array([[1,2],[3,4]])\n",
    "n2 = np.array([[3,4],[5,7]])\n",
    "n1/n2"
   ]
  },
  {
   "cell_type": "code",
   "execution_count": 27,
   "metadata": {},
   "outputs": [
    {
     "data": {
      "text/plain": [
       "array([[1, 0, 0],\n",
       "       [0, 2, 0],\n",
       "       [0, 0, 3]])"
      ]
     },
     "execution_count": 27,
     "metadata": {},
     "output_type": "execute_result"
    }
   ],
   "source": [
    "x=np.diag((1,2,3))   ##写入对角阵x\n",
    "x    "
   ]
  },
  {
   "cell_type": "code",
   "execution_count": 31,
   "metadata": {},
   "outputs": [],
   "source": [
    "##输出对角阵x\n",
    "a,b=np.linalg.eig(x) ##特征值赋值给a，对应特征向量赋值给b "
   ]
  },
  {
   "cell_type": "code",
   "execution_count": 32,
   "metadata": {},
   "outputs": [
    {
     "data": {
      "text/plain": [
       "array([1., 2., 3.])"
      ]
     },
     "execution_count": 32,
     "metadata": {},
     "output_type": "execute_result"
    }
   ],
   "source": [
    "a\n"
   ]
  },
  {
   "cell_type": "code",
   "execution_count": 33,
   "metadata": {},
   "outputs": [
    {
     "data": {
      "text/plain": [
       "array([[1., 0., 0.],\n",
       "       [0., 1., 0.],\n",
       "       [0., 0., 1.]])"
      ]
     },
     "execution_count": 33,
     "metadata": {},
     "output_type": "execute_result"
    }
   ],
   "source": [
    "b"
   ]
  },
  {
   "cell_type": "code",
   "execution_count": 34,
   "metadata": {},
   "outputs": [],
   "source": [
    "mat1 = np.array([[1,2,3],[5,4,5],[3,6,7]])\n",
    "mat2 = np.array([[3,6,7],[7,7,9],[1,2,3]])"
   ]
  },
  {
   "cell_type": "code",
   "execution_count": 35,
   "metadata": {},
   "outputs": [
    {
     "data": {
      "text/plain": [
       "array([[0.33333333, 0.33333333, 0.42857143],\n",
       "       [0.71428571, 0.57142857, 0.55555556],\n",
       "       [3.        , 3.        , 2.33333333]])"
      ]
     },
     "execution_count": 35,
     "metadata": {},
     "output_type": "execute_result"
    }
   ],
   "source": [
    "mat1 / mat2"
   ]
  },
  {
   "cell_type": "markdown",
   "metadata": {},
   "source": [
    "# Numpy一些功能点整理\n",
    "\n",
    "\n"
   ]
  },
  {
   "cell_type": "markdown",
   "metadata": {},
   "source": [
    "## 生成一个identity matrix"
   ]
  },
  {
   "cell_type": "code",
   "execution_count": 39,
   "metadata": {},
   "outputs": [
    {
     "data": {
      "text/plain": [
       "array([[1., 0., 0.],\n",
       "       [0., 1., 0.],\n",
       "       [0., 0., 1.]])"
      ]
     },
     "execution_count": 39,
     "metadata": {},
     "output_type": "execute_result"
    }
   ],
   "source": [
    "identity = np.eye(3)\n",
    "identity"
   ]
  },
  {
   "cell_type": "markdown",
   "metadata": {},
   "source": [
    "## Numpy的幂\n"
   ]
  },
  {
   "cell_type": "code",
   "execution_count": 40,
   "metadata": {},
   "outputs": [],
   "source": [
    "t1 = np.array([1,2,3])"
   ]
  },
  {
   "cell_type": "code",
   "execution_count": 44,
   "metadata": {},
   "outputs": [
    {
     "data": {
      "text/plain": [
       "array([ 1,  8, 27], dtype=int32)"
      ]
     },
     "execution_count": 44,
     "metadata": {},
     "output_type": "execute_result"
    }
   ],
   "source": [
    "np.power(t1,3)"
   ]
  },
  {
   "cell_type": "code",
   "execution_count": 45,
   "metadata": {},
   "outputs": [
    {
     "data": {
      "text/plain": [
       "array([1.        , 1.25992105, 1.44224957])"
      ]
     },
     "execution_count": 45,
     "metadata": {},
     "output_type": "execute_result"
    }
   ],
   "source": [
    "np.power(t1,1/3)"
   ]
  },
  {
   "cell_type": "code",
   "execution_count": 46,
   "metadata": {},
   "outputs": [
    {
     "data": {
      "text/plain": [
       "array([ 1, 16, 81], dtype=int32)"
      ]
     },
     "execution_count": 46,
     "metadata": {},
     "output_type": "execute_result"
    }
   ],
   "source": [
    "np.power(t1,4)"
   ]
  },
  {
   "cell_type": "markdown",
   "metadata": {},
   "source": [
    "## Numpy的传播"
   ]
  },
  {
   "cell_type": "code",
   "execution_count": 48,
   "metadata": {},
   "outputs": [],
   "source": [
    "t1 = np.array([2,3,4,5])"
   ]
  },
  {
   "cell_type": "code",
   "execution_count": 50,
   "metadata": {},
   "outputs": [
    {
     "data": {
      "text/plain": [
       "4"
      ]
     },
     "execution_count": 50,
     "metadata": {},
     "output_type": "execute_result"
    }
   ],
   "source": [
    "t1.shape[0]"
   ]
  },
  {
   "cell_type": "code",
   "execution_count": 56,
   "metadata": {},
   "outputs": [],
   "source": [
    "order = 2 # 最高次方是2\n",
    "res = np.zeros((t1.shape[0],order+1))"
   ]
  },
  {
   "cell_type": "code",
   "execution_count": 65,
   "metadata": {},
   "outputs": [],
   "source": [
    "for i in range(order+1):\n",
    "    res[:,i] = t1**i"
   ]
  },
  {
   "cell_type": "code",
   "execution_count": 66,
   "metadata": {},
   "outputs": [
    {
     "data": {
      "text/plain": [
       "array([[ 1.,  2.,  4.],\n",
       "       [ 1.,  3.,  9.],\n",
       "       [ 1.,  4., 16.],\n",
       "       [ 1.,  5., 25.]])"
      ]
     },
     "execution_count": 66,
     "metadata": {},
     "output_type": "execute_result"
    }
   ],
   "source": [
    "res"
   ]
  },
  {
   "cell_type": "code",
   "execution_count": null,
   "metadata": {},
   "outputs": [],
   "source": []
  }
 ],
 "metadata": {
  "kernelspec": {
   "display_name": "Python 3",
   "language": "python",
   "name": "python3"
  },
  "language_info": {
   "codemirror_mode": {
    "name": "ipython",
    "version": 3
   },
   "file_extension": ".py",
   "mimetype": "text/x-python",
   "name": "python",
   "nbconvert_exporter": "python",
   "pygments_lexer": "ipython3",
   "version": "3.8.5"
  }
 },
 "nbformat": 4,
 "nbformat_minor": 4
}
