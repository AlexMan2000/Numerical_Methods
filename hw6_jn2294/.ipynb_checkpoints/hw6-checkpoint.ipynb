{
 "cells": [
  {
   "cell_type": "code",
   "execution_count": 19,
   "metadata": {},
   "outputs": [],
   "source": [
    "import pandas as pd\n",
    "import numpy as np\n",
    "import matplotlib.pyplot as plt"
   ]
  },
  {
   "cell_type": "code",
   "execution_count": 20,
   "metadata": {},
   "outputs": [],
   "source": [
    "data = pd.read_csv(\"./EURUSD=X.csv\")"
   ]
  },
  {
   "cell_type": "code",
   "execution_count": 21,
   "metadata": {},
   "outputs": [],
   "source": [
    "data[\"Date\"] = pd.to_datetime(data.Date)"
   ]
  },
  {
   "cell_type": "code",
   "execution_count": 22,
   "metadata": {},
   "outputs": [],
   "source": [
    "data.set_index(\"Date\",inplace=True)"
   ]
  },
  {
   "cell_type": "code",
   "execution_count": 23,
   "metadata": {},
   "outputs": [],
   "source": [
    "sampled_data = data[[\"Adj Close\"]].resample(\"M\").last()"
   ]
  },
  {
   "cell_type": "code",
   "execution_count": 24,
   "metadata": {},
   "outputs": [
    {
     "data": {
      "text/html": [
       "<div>\n",
       "<style scoped>\n",
       "    .dataframe tbody tr th:only-of-type {\n",
       "        vertical-align: middle;\n",
       "    }\n",
       "\n",
       "    .dataframe tbody tr th {\n",
       "        vertical-align: top;\n",
       "    }\n",
       "\n",
       "    .dataframe thead th {\n",
       "        text-align: right;\n",
       "    }\n",
       "</style>\n",
       "<table border=\"1\" class=\"dataframe\">\n",
       "  <thead>\n",
       "    <tr style=\"text-align: right;\">\n",
       "      <th></th>\n",
       "      <th>Adj Close</th>\n",
       "    </tr>\n",
       "    <tr>\n",
       "      <th>Date</th>\n",
       "      <th></th>\n",
       "    </tr>\n",
       "  </thead>\n",
       "  <tbody>\n",
       "    <tr>\n",
       "      <th>2021-04-30</th>\n",
       "      <td>1.212709</td>\n",
       "    </tr>\n",
       "    <tr>\n",
       "      <th>2021-05-31</th>\n",
       "      <td>1.219007</td>\n",
       "    </tr>\n",
       "    <tr>\n",
       "      <th>2021-06-30</th>\n",
       "      <td>1.190193</td>\n",
       "    </tr>\n",
       "    <tr>\n",
       "      <th>2021-07-31</th>\n",
       "      <td>1.189300</td>\n",
       "    </tr>\n",
       "    <tr>\n",
       "      <th>2021-08-31</th>\n",
       "      <td>1.179690</td>\n",
       "    </tr>\n",
       "    <tr>\n",
       "      <th>2021-09-30</th>\n",
       "      <td>1.160160</td>\n",
       "    </tr>\n",
       "    <tr>\n",
       "      <th>2021-10-31</th>\n",
       "      <td>1.168361</td>\n",
       "    </tr>\n",
       "    <tr>\n",
       "      <th>2021-11-30</th>\n",
       "      <td>1.129344</td>\n",
       "    </tr>\n",
       "    <tr>\n",
       "      <th>2021-12-31</th>\n",
       "      <td>1.132503</td>\n",
       "    </tr>\n",
       "    <tr>\n",
       "      <th>2022-01-31</th>\n",
       "      <td>1.115237</td>\n",
       "    </tr>\n",
       "    <tr>\n",
       "      <th>2022-02-28</th>\n",
       "      <td>1.118105</td>\n",
       "    </tr>\n",
       "    <tr>\n",
       "      <th>2022-03-31</th>\n",
       "      <td>1.116184</td>\n",
       "    </tr>\n",
       "    <tr>\n",
       "      <th>2022-04-30</th>\n",
       "      <td>1.086602</td>\n",
       "    </tr>\n",
       "  </tbody>\n",
       "</table>\n",
       "</div>"
      ],
      "text/plain": [
       "            Adj Close\n",
       "Date                 \n",
       "2021-04-30   1.212709\n",
       "2021-05-31   1.219007\n",
       "2021-06-30   1.190193\n",
       "2021-07-31   1.189300\n",
       "2021-08-31   1.179690\n",
       "2021-09-30   1.160160\n",
       "2021-10-31   1.168361\n",
       "2021-11-30   1.129344\n",
       "2021-12-31   1.132503\n",
       "2022-01-31   1.115237\n",
       "2022-02-28   1.118105\n",
       "2022-03-31   1.116184\n",
       "2022-04-30   1.086602"
      ]
     },
     "execution_count": 24,
     "metadata": {},
     "output_type": "execute_result"
    }
   ],
   "source": [
    "sampled_data"
   ]
  },
  {
   "cell_type": "code",
   "execution_count": 151,
   "metadata": {},
   "outputs": [],
   "source": [
    "np.set_printoptions(precision=2, suppress=True)\n",
    "start = -2\n",
    "end=2\n",
    "n=8\n",
    "wf = lambda n: np.exp(-1j*2*np.pi/n)\n",
    "t = np.linspace(start,end,n)\n",
    "\n",
    "T = 0.1984\n",
    "f = lambda t : np.exp(-np.abs(t)/T)\n",
    "ft = f(t)\n",
    "\n",
    "# 0. Get the value of w\n",
    "w = wf(n)\n"
   ]
  },
  {
   "cell_type": "code",
   "execution_count": 152,
   "metadata": {},
   "outputs": [],
   "source": [
    "def performDFT(x,n):\n",
    "    DFT = np.zeros((n,n),dtype = np.complex)\n",
    "\n",
    "    for i in range(n):\n",
    "        for j in range(n):\n",
    "            DFT[i, j] = w ** (i * j)\n",
    "    \n",
    "    DFT =  DFT\n",
    "    DFT_x =  np.dot(DFT, x)\n",
    "\n",
    "    return DFT_x, DFT"
   ]
  },
  {
   "cell_type": "code",
   "execution_count": 153,
   "metadata": {},
   "outputs": [],
   "source": [
    "def performFFT(x,n):\n",
    "    Fn = computeFn(n)\n",
    "    return Fn @ x, Fn\n",
    "\n",
    "\n",
    "def computeFn(n):\n",
    "    \"\"\"\n",
    "    We will use the matrix form of multiplication\n",
    "    :param n:\n",
    "    :param x:\n",
    "    :return:\n",
    "    \"\"\"\n",
    "    if n == 1:\n",
    "        return np.array([[1]])\n",
    "\n",
    "    # 1. Get the D matrix of size n = 2^m/2\n",
    "    Dn_2 = np.diag(np.power(w,np.arange(0,n//2)))\n",
    "\n",
    "    # 2. Get the transpose matrix to align the odd and even terms\n",
    "    Pn_2 = np.zeros((n, n))\n",
    "    Pn_2[np.arange(0, n // 2), np.arange(0, n, 2)] = 1\n",
    "    Pn_2[np.arange(n // 2, n), np.arange(1, n, 2)] = 1\n",
    "\n",
    "    # 3. Get the identity matrix of size n\n",
    "    In_2 = np.eye(n // 2)\n",
    "\n",
    "    # 4. Compute the Fn\n",
    "    Fn_2 = computeFn(n//2)\n",
    "\n",
    "    Fn = np.block([[In_2,Dn_2],[In_2,-Dn_2]]) @ np.block([[Fn_2,np.zeros((n//2,n//2))],[np.zeros((n//2,n//2)),Fn_2]]) @ Pn_2\n",
    "#     print(\"first\",np.block([[In_2,Dn_2],[In_2,-Dn_2]]))\n",
    "#     print(\"second\",np.block([[Fn_2,np.zeros((n//2,n//2))],[np.zeros((n//2,n//2)),Fn_2]]))\n",
    "#     print(\"P\",Pn_2)\n",
    "    \n",
    "    \n",
    "    return Fn"
   ]
  },
  {
   "cell_type": "code",
   "execution_count": 154,
   "metadata": {},
   "outputs": [],
   "source": [
    "first,DFT = performDFT(ft,n)"
   ]
  },
  {
   "cell_type": "code",
   "execution_count": 155,
   "metadata": {},
   "outputs": [
    {
     "data": {
      "text/plain": [
       "array([[ 1.  ,  1.  ,  1.  ,  1.  ,  1.  ,  1.  ,  1.  ,  1.  ],\n",
       "       [ 1.  ,  0.71,  0.  , -0.71, -1.  , -0.71, -0.  ,  0.71],\n",
       "       [ 1.  ,  0.  , -1.  , -0.  ,  1.  ,  0.  , -1.  , -0.  ],\n",
       "       [ 1.  , -0.71, -0.  ,  0.71, -1.  ,  0.71,  0.  , -0.71],\n",
       "       [ 1.  , -1.  ,  1.  , -1.  ,  1.  , -1.  ,  1.  , -1.  ],\n",
       "       [ 1.  , -0.71,  0.  ,  0.71, -1.  ,  0.71, -0.  , -0.71],\n",
       "       [ 1.  , -0.  , -1.  ,  0.  ,  1.  , -0.  , -1.  ,  0.  ],\n",
       "       [ 1.  ,  0.71, -0.  , -0.71, -1.  , -0.71,  0.  ,  0.71]])"
      ]
     },
     "execution_count": 155,
     "metadata": {},
     "output_type": "execute_result"
    }
   ],
   "source": [
    "np.real(DFT)"
   ]
  },
  {
   "cell_type": "code",
   "execution_count": 156,
   "metadata": {},
   "outputs": [
    {
     "data": {
      "text/plain": [
       "array([[ 1.  ,  1.  ,  1.  ,  1.  ,  1.  ,  1.  ,  1.  ,  1.  ],\n",
       "       [ 1.  ,  0.71,  0.71,  0.  , -1.  , -0.71, -0.71,  0.  ],\n",
       "       [ 1.  ,  0.  , -1.  ,  0.  ,  1.  ,  0.  , -1.  ,  0.  ],\n",
       "       [ 1.  , -0.71, -0.71,  1.  , -1.  ,  0.71,  0.71, -1.  ],\n",
       "       [ 1.  , -1.  ,  1.  , -1.  ,  1.  , -1.  ,  1.  , -1.  ],\n",
       "       [ 1.  , -0.71,  0.71,  0.  , -1.  ,  0.71, -0.71,  0.  ],\n",
       "       [ 1.  ,  0.  , -1.  ,  0.  ,  1.  ,  0.  , -1.  ,  0.  ],\n",
       "       [ 1.  ,  0.71, -0.71, -1.  , -1.  , -0.71,  0.71,  1.  ]])"
      ]
     },
     "execution_count": 156,
     "metadata": {},
     "output_type": "execute_result"
    }
   ],
   "source": [
    "np.real(computeFn(n))"
   ]
  },
  {
   "cell_type": "code",
   "execution_count": 160,
   "metadata": {},
   "outputs": [],
   "source": [
    "from scipy.linalg import dft\n",
    "from scipy.fft import fft"
   ]
  },
  {
   "cell_type": "code",
   "execution_count": 159,
   "metadata": {},
   "outputs": [
    {
     "data": {
      "text/plain": [
       "array([[ 1.  ,  1.  ,  1.  ,  1.  ,  1.  ,  1.  ,  1.  ,  1.  ],\n",
       "       [ 1.  ,  0.71,  0.  , -0.71, -1.  , -0.71, -0.  ,  0.71],\n",
       "       [ 1.  ,  0.  , -1.  , -0.  ,  1.  ,  0.  , -1.  , -0.  ],\n",
       "       [ 1.  , -0.71, -0.  ,  0.71, -1.  ,  0.71,  0.  , -0.71],\n",
       "       [ 1.  , -1.  ,  1.  , -1.  ,  1.  , -1.  ,  1.  , -1.  ],\n",
       "       [ 1.  , -0.71,  0.  ,  0.71, -1.  ,  0.71, -0.  , -0.71],\n",
       "       [ 1.  , -0.  , -1.  ,  0.  ,  1.  , -0.  , -1.  ,  0.  ],\n",
       "       [ 1.  ,  0.71, -0.  , -0.71, -1.  , -0.71,  0.  ,  0.71]])"
      ]
     },
     "execution_count": 159,
     "metadata": {},
     "output_type": "execute_result"
    }
   ],
   "source": [
    "np.real(dft(8))"
   ]
  },
  {
   "cell_type": "code",
   "execution_count": 161,
   "metadata": {},
   "outputs": [
    {
     "data": {
      "text/plain": [
       "array([-0.  ,  2.83,  0.  ,  0.  ,  0.  , -0.  , -0.  ,  0.  ])"
      ]
     },
     "execution_count": 161,
     "metadata": {},
     "output_type": "execute_result"
    }
   ],
   "source": [
    "np.real(fft(np.exp(2j*np.pi*np.arange(n)/n),norm=\"ortho\"))"
   ]
  },
  {
   "cell_type": "code",
   "execution_count": 16,
   "metadata": {},
   "outputs": [
    {
     "name": "stdout",
     "output_type": "stream",
     "text": [
      "[[1]\n",
      " [2]\n",
      " [3]]\n"
     ]
    }
   ],
   "source": [
    "n1 = np.array([1,2,3])\n",
    "n1 = n1.reshape(3,1)\n",
    "print(n1)"
   ]
  },
  {
   "cell_type": "code",
   "execution_count": 19,
   "metadata": {},
   "outputs": [
    {
     "data": {
      "text/plain": [
       "array([[1, 2, 3],\n",
       "       [2, 4, 6],\n",
       "       [3, 6, 9]])"
      ]
     },
     "execution_count": 19,
     "metadata": {},
     "output_type": "execute_result"
    }
   ],
   "source": [
    "n2 = np.array([1,2,3])\n",
    "n1*n2"
   ]
  },
  {
   "cell_type": "code",
   "execution_count": 31,
   "metadata": {},
   "outputs": [
    {
     "name": "stdout",
     "output_type": "stream",
     "text": [
      "frq [[0.0000e+00]\n",
      " [2.5000e-01]\n",
      " [5.0000e-01]\n",
      " ...\n",
      " [2.5525e+02]\n",
      " [2.5550e+02]\n",
      " [2.5575e+02]]\n",
      "X [0.38800018 0.35505568 0.28291543 ... 0.21137584 0.28291543 0.35505568]\n",
      "w1 [[-802.67692299]\n",
      " [-801.10612667]\n",
      " [-799.53533034]\n",
      " ...\n",
      " [ 799.53533034]\n",
      " [ 801.10612667]\n",
      " [ 802.67692299]]\n",
      "f1 [3.93271278e-05 3.93256173e-05 3.93300890e-05 ... 3.93300890e-05\n",
      " 3.93256173e-05 3.93271278e-05]\n",
      "f2 [0.09700004 0.08876392 0.07072886 ... 0.05284396 0.07072886 0.08876392]\n"
     ]
    },
    {
     "data": {
      "image/png": "[encoded data removed]",
      "text/plain": [
       "<Figure size 432x288 with 1 Axes>"
      ]
     },
     "metadata": {
      "needs_background": "light"
     },
     "output_type": "display_data"
    }
   ],
   "source": [
    "ts = 4/1024 # step\n",
    "sr = 1024/4 # sampling rate\n",
    "T0 = 0.194\n",
    "f = lambda t: np.exp(-np.abs(t)/T0)\n",
    "N = 1024\n",
    "dt = 4/N\n",
    "t = np.arange(-2,2,dt)\n",
    "x = f(t)\n",
    "# (1) dft\n",
    "xf = np.zeros(N)\n",
    "n = np.arange(N)\n",
    "k = n.reshape((N, 1))\n",
    "e = np.exp(-2j * np.pi * k * n/N)\n",
    "X = np.dot(e, x)\n",
    "\n",
    "# plt\n",
    "frq = k/4 # two sides frequency range\n",
    "print(\"frq\",frq)\n",
    "\n",
    "X = np.abs(X)/sr\n",
    "print(\"X\",X) \n",
    "# get w1,f1\n",
    "w1 = np.vstack((-frq[N//2-1::-1],frq[:N//2]))*np.pi*2\n",
    "print(\"w1\",w1)\n",
    "\n",
    "f1 = np.hstack((X[N//2-1::-1],X[:N//2]))\n",
    "print(\"f1\",f1)\n",
    "\n",
    "# (2) fft\n",
    "xf = np.fft.fft(x) / N # un normalaization\n",
    "# xf = np.fft.fft(xf) # fft computing and normalization\n",
    "w2 = w1\n",
    "f2 = abs(xf)\n",
    "print(\"f2\",f2)\n",
    "\n",
    "# (3) plot\n",
    "plt.figure(1)\n",
    "plt.plot(w1,f1,'o-.',label = 'DFT',color = 'red')\n",
    "plt.plot(w2,f2,'o--',label = 'FFT',color = 'blue',alpha = 0.5)\n",
    "ww = np.linspace(-20,20,10000)\n",
    "plt.plot(ww,2*T0/(1+(ww*T0)**2),label = '$f(\\omega)$',color ='black')\n",
    "plt.legend()\n",
    "plt.xlabel('$\\omega$')\n",
    "plt.xlim([-20,20])\n",
    "plt.ylabel('$f(\\omega)$')\n",
    "plt.show()"
   ]
  },
  {
   "cell_type": "code",
   "execution_count": null,
   "metadata": {},
   "outputs": [],
   "source": []
  },
  {
   "cell_type": "code",
   "execution_count": null,
   "metadata": {},
   "outputs": [],
   "source": []
  },
  {
   "cell_type": "code",
   "execution_count": null,
   "metadata": {},
   "outputs": [],
   "source": []
  },
  {
   "cell_type": "code",
   "execution_count": null,
   "metadata": {},
   "outputs": [],
   "source": []
  },
  {
   "cell_type": "code",
   "execution_count": null,
   "metadata": {},
   "outputs": [],
   "source": []
  }
 ],
 "metadata": {
  "kernelspec": {
   "display_name": "Python 3",
   "language": "python",
   "name": "python3"
  },
  "language_info": {
   "codemirror_mode": {
    "name": "ipython",
    "version": 3
   },
   "file_extension": ".py",
   "mimetype": "text/x-python",
   "name": "python",
   "nbconvert_exporter": "python",
   "pygments_lexer": "ipython3",
   "version": "3.8.5"
  }
 },
 "nbformat": 4,
 "nbformat_minor": 4
}
