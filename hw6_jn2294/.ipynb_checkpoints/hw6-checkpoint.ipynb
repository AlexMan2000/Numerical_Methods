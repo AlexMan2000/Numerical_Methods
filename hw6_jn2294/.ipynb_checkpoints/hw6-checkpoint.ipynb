{
 "cells": [
  {
   "cell_type": "code",
   "execution_count": 1,
   "metadata": {},
   "outputs": [],
   "source": [
    "import pandas as pd\n",
    "import numpy as np\n",
    "import matplotlib.pyplot as plt"
   ]
  },
  {
   "cell_type": "code",
   "execution_count": 3,
   "metadata": {},
   "outputs": [],
   "source": [
    "data = pd.read_csv(\"./EURUSD=X.csv\")"
   ]
  },
  {
   "cell_type": "code",
   "execution_count": 10,
   "metadata": {},
   "outputs": [],
   "source": [
    "data[\"Date\"] = pd.to_datetime(data.Date)"
   ]
  },
  {
   "cell_type": "code",
   "execution_count": 14,
   "metadata": {},
   "outputs": [],
   "source": [
    "data.set_index(\"Date\",inplace=True)"
   ]
  },
  {
   "cell_type": "code",
   "execution_count": 29,
   "metadata": {},
   "outputs": [],
   "source": [
    "sampled_data = data[[\"Adj Close\"]].resample(\"M\").last()"
   ]
  },
  {
   "cell_type": "code",
   "execution_count": 87,
   "metadata": {},
   "outputs": [
    {
     "data": {
      "text/plain": [
       "DatetimeIndex(['2021-04-30', '2021-05-31', '2021-06-30', '2021-07-31',\n",
       "               '2021-08-31', '2021-09-30', '2021-10-31', '2021-11-30',\n",
       "               '2021-12-31', '2022-01-31', '2022-02-28', '2022-03-31',\n",
       "               '2022-04-30'],\n",
       "              dtype='datetime64[ns]', name='Date', freq='M')"
      ]
     },
     "execution_count": 87,
     "metadata": {},
     "output_type": "execute_result"
    }
   ],
   "source": [
    "sampled_data.index"
   ]
  },
  {
   "cell_type": "code",
   "execution_count": 69,
   "metadata": {},
   "outputs": [],
   "source": [
    "np.set_printoptions(precision=2, suppress=True)\n",
    "start = -2\n",
    "end=2\n",
    "n=4\n",
    "wf = lambda n: np.exp(-1j*2*np.pi/n)\n",
    "t = np.linspace(start,end,n)\n",
    "\n",
    "T = 0.1984\n",
    "f = lambda t : np.exp(-np.abs(t)/T)\n",
    "ft = f(t)\n",
    "\n",
    "# 0. Get the value of w\n",
    "w = wf(n)\n"
   ]
  },
  {
   "cell_type": "code",
   "execution_count": 70,
   "metadata": {},
   "outputs": [],
   "source": [
    "def performDFT(x,n):\n",
    "    DFT = np.zeros((n,n),dtype = np.complex)\n",
    "\n",
    "    for i in range(n):\n",
    "        for j in range(n):\n",
    "            DFT[i, j] = w ** (i * j)\n",
    "    \n",
    "    DFT =  DFT\n",
    "    DFT_x =  np.dot(DFT, x)\n",
    "\n",
    "    return DFT_x, DFT"
   ]
  },
  {
   "cell_type": "code",
   "execution_count": 71,
   "metadata": {},
   "outputs": [],
   "source": [
    "def performFFT(x,n):\n",
    "    Fn = computeFn(n)\n",
    "    return Fn @ x, Fn\n",
    "\n",
    "\n",
    "def computeFn(n):\n",
    "    \"\"\"\n",
    "    We will use the matrix form of multiplication\n",
    "    :param n:\n",
    "    :param x:\n",
    "    :return:\n",
    "    \"\"\"\n",
    "    if n == 1:\n",
    "        return np.array([[1]])\n",
    "\n",
    "    # 1. Get the D matrix of size n = 2^m/2\n",
    "    w = wf(n//2)\n",
    "    Dn_2 = np.diag(np.power(w,np.arange(0,n//2)))\n",
    "\n",
    "    # 2. Get the transpose matrix to align the odd and even terms\n",
    "    Pn_2 = np.zeros((n, n))\n",
    "    Pn_2[np.arange(0, n // 2), np.arange(0, n, 2)] = 1\n",
    "    Pn_2[np.arange(n // 2, n), np.arange(1, n, 2)] = 1\n",
    "\n",
    "    # 3. Get the identity matrix of size n\n",
    "    In_2 = np.eye(n // 2)\n",
    "\n",
    "    # 4. Compute the Fn\n",
    "    Fn_2 = computeFn(n//2)\n",
    "\n",
    "    Fn = np.block([[In_2,Dn_2],[In_2,-Dn_2]]) @ np.block([[Fn_2,np.zeros((n//2,n//2))],[np.zeros((n//2,n//2)),Fn_2]]) @ Pn_2\n",
    "    print(Fn)\n",
    "    \n",
    "    \n",
    "    return Fn"
   ]
  },
  {
   "cell_type": "code",
   "execution_count": 72,
   "metadata": {},
   "outputs": [],
   "source": [
    "first,DFT = performDFT(ft,4)"
   ]
  },
  {
   "cell_type": "code",
   "execution_count": 73,
   "metadata": {},
   "outputs": [
    {
     "data": {
      "text/plain": [
       "array([[ 1.+0.j,  1.+0.j,  1.+0.j,  1.+0.j],\n",
       "       [ 1.+0.j,  0.-1.j, -1.-0.j, -0.+1.j],\n",
       "       [ 1.+0.j, -1.-0.j,  1.+0.j, -1.-0.j],\n",
       "       [ 1.+0.j, -0.+1.j, -1.-0.j,  0.-1.j]])"
      ]
     },
     "execution_count": 73,
     "metadata": {},
     "output_type": "execute_result"
    }
   ],
   "source": [
    "DFT"
   ]
  },
  {
   "cell_type": "code",
   "execution_count": 74,
   "metadata": {},
   "outputs": [
    {
     "data": {
      "text/plain": [
       "array([[ 1.,  1.,  1.,  1.],\n",
       "       [ 1.,  0., -1., -0.],\n",
       "       [ 1., -1.,  1., -1.],\n",
       "       [ 1., -0., -1.,  0.]])"
      ]
     },
     "execution_count": 74,
     "metadata": {},
     "output_type": "execute_result"
    }
   ],
   "source": [
    "np.real(DFT)"
   ]
  },
  {
   "cell_type": "code",
   "execution_count": 75,
   "metadata": {},
   "outputs": [
    {
     "name": "stdout",
     "output_type": "stream",
     "text": [
      "[[ 1.+0.j  1.+0.j]\n",
      " [ 1.+0.j -1.+0.j]]\n",
      "[[ 1.+0.j  1.+0.j  1.+0.j  1.+0.j]\n",
      " [ 1.+0.j -1.-0.j -1.+0.j  1.+0.j]\n",
      " [ 1.+0.j -1.+0.j  1.+0.j -1.+0.j]\n",
      " [ 1.+0.j  1.+0.j -1.+0.j -1.-0.j]]\n"
     ]
    },
    {
     "data": {
      "text/plain": [
       "array([[ 1.,  1.,  1.,  1.],\n",
       "       [ 1., -1., -1.,  1.],\n",
       "       [ 1., -1.,  1., -1.],\n",
       "       [ 1.,  1., -1., -1.]])"
      ]
     },
     "execution_count": 75,
     "metadata": {},
     "output_type": "execute_result"
    }
   ],
   "source": [
    "np.real(computeFn(4))"
   ]
  },
  {
   "cell_type": "code",
   "execution_count": null,
   "metadata": {},
   "outputs": [],
   "source": []
  }
 ],
 "metadata": {
  "kernelspec": {
   "display_name": "Python 3",
   "language": "python",
   "name": "python3"
  },
  "language_info": {
   "codemirror_mode": {
    "name": "ipython",
    "version": 3
   },
   "file_extension": ".py",
   "mimetype": "text/x-python",
   "name": "python",
   "nbconvert_exporter": "python",
   "pygments_lexer": "ipython3",
   "version": "3.8.5"
  }
 },
 "nbformat": 4,
 "nbformat_minor": 4
}
